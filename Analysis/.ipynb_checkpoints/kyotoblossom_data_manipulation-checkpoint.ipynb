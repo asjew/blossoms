{
 "cells": [
  {
   "cell_type": "code",
   "execution_count": 1,
   "id": "f5c35ddd",
   "metadata": {},
   "outputs": [],
   "source": [
    "import pandas as pd\n",
    "import os\n",
    "import numpy as np"
   ]
  },
  {
   "cell_type": "code",
   "execution_count": 2,
   "id": "10997031",
   "metadata": {},
   "outputs": [],
   "source": [
    "os.chdir(os.path.dirname(os.getcwd()))\n",
    "os.chdir('Data')\n",
    "os.chdir('cherryblossoms')"
   ]
  },
  {
   "cell_type": "code",
   "execution_count": 3,
   "id": "8e6b72d9",
   "metadata": {},
   "outputs": [],
   "source": [
    "kyoto = pd.read_excel('KyotoFullFlower7.xls', skiprows=25)"
   ]
  },
  {
   "cell_type": "code",
   "execution_count": 4,
   "id": "9d92d7ec",
   "metadata": {},
   "outputs": [
    {
     "data": {
      "text/html": [
       "<div>\n",
       "<style scoped>\n",
       "    .dataframe tbody tr th:only-of-type {\n",
       "        vertical-align: middle;\n",
       "    }\n",
       "\n",
       "    .dataframe tbody tr th {\n",
       "        vertical-align: top;\n",
       "    }\n",
       "\n",
       "    .dataframe thead th {\n",
       "        text-align: right;\n",
       "    }\n",
       "</style>\n",
       "<table border=\"1\" class=\"dataframe\">\n",
       "  <thead>\n",
       "    <tr style=\"text-align: right;\">\n",
       "      <th></th>\n",
       "      <th>AD</th>\n",
       "      <th>Full-flowering date (DOY)</th>\n",
       "      <th>Full-flowering date</th>\n",
       "      <th>Source code</th>\n",
       "      <th>Data type code</th>\n",
       "      <th>Reference Name</th>\n",
       "    </tr>\n",
       "  </thead>\n",
       "  <tbody>\n",
       "    <tr>\n",
       "      <th>0</th>\n",
       "      <td>801</td>\n",
       "      <td>NaN</td>\n",
       "      <td>NaN</td>\n",
       "      <td>NaN</td>\n",
       "      <td>NaN</td>\n",
       "      <td>-</td>\n",
       "    </tr>\n",
       "    <tr>\n",
       "      <th>1</th>\n",
       "      <td>802</td>\n",
       "      <td>NaN</td>\n",
       "      <td>NaN</td>\n",
       "      <td>NaN</td>\n",
       "      <td>NaN</td>\n",
       "      <td>-</td>\n",
       "    </tr>\n",
       "    <tr>\n",
       "      <th>2</th>\n",
       "      <td>803</td>\n",
       "      <td>NaN</td>\n",
       "      <td>NaN</td>\n",
       "      <td>NaN</td>\n",
       "      <td>NaN</td>\n",
       "      <td>-</td>\n",
       "    </tr>\n",
       "    <tr>\n",
       "      <th>3</th>\n",
       "      <td>804</td>\n",
       "      <td>NaN</td>\n",
       "      <td>NaN</td>\n",
       "      <td>NaN</td>\n",
       "      <td>NaN</td>\n",
       "      <td>-</td>\n",
       "    </tr>\n",
       "    <tr>\n",
       "      <th>4</th>\n",
       "      <td>805</td>\n",
       "      <td>NaN</td>\n",
       "      <td>NaN</td>\n",
       "      <td>NaN</td>\n",
       "      <td>NaN</td>\n",
       "      <td>-</td>\n",
       "    </tr>\n",
       "    <tr>\n",
       "      <th>...</th>\n",
       "      <td>...</td>\n",
       "      <td>...</td>\n",
       "      <td>...</td>\n",
       "      <td>...</td>\n",
       "      <td>...</td>\n",
       "      <td>...</td>\n",
       "    </tr>\n",
       "    <tr>\n",
       "      <th>1216</th>\n",
       "      <td>2017</td>\n",
       "      <td>99.0</td>\n",
       "      <td>409.0</td>\n",
       "      <td>8.0</td>\n",
       "      <td>0.0</td>\n",
       "      <td>NEWS-PAPER(ARASHIYAMA)</td>\n",
       "    </tr>\n",
       "    <tr>\n",
       "      <th>1217</th>\n",
       "      <td>2018</td>\n",
       "      <td>89.0</td>\n",
       "      <td>330.0</td>\n",
       "      <td>8.0</td>\n",
       "      <td>0.0</td>\n",
       "      <td>NEWS-PAPER(ARASHIYAMA)</td>\n",
       "    </tr>\n",
       "    <tr>\n",
       "      <th>1218</th>\n",
       "      <td>2019</td>\n",
       "      <td>95.0</td>\n",
       "      <td>405.0</td>\n",
       "      <td>8.0</td>\n",
       "      <td>0.0</td>\n",
       "      <td>NEWS-PAPER(ARASHIYAMA)</td>\n",
       "    </tr>\n",
       "    <tr>\n",
       "      <th>1219</th>\n",
       "      <td>2020</td>\n",
       "      <td>92.0</td>\n",
       "      <td>401.0</td>\n",
       "      <td>8.0</td>\n",
       "      <td>0.0</td>\n",
       "      <td>NEWS-PAPER(ARASHIYAMA)</td>\n",
       "    </tr>\n",
       "    <tr>\n",
       "      <th>1220</th>\n",
       "      <td>2021</td>\n",
       "      <td>85.0</td>\n",
       "      <td>326.0</td>\n",
       "      <td>8.0</td>\n",
       "      <td>0.0</td>\n",
       "      <td>NEWS-PAPER(ARASHIYAMA)</td>\n",
       "    </tr>\n",
       "  </tbody>\n",
       "</table>\n",
       "<p>1221 rows × 6 columns</p>\n",
       "</div>"
      ],
      "text/plain": [
       "        AD  Full-flowering date (DOY)  Full-flowering date  Source code  \\\n",
       "0      801                        NaN                  NaN          NaN   \n",
       "1      802                        NaN                  NaN          NaN   \n",
       "2      803                        NaN                  NaN          NaN   \n",
       "3      804                        NaN                  NaN          NaN   \n",
       "4      805                        NaN                  NaN          NaN   \n",
       "...    ...                        ...                  ...          ...   \n",
       "1216  2017                       99.0                409.0          8.0   \n",
       "1217  2018                       89.0                330.0          8.0   \n",
       "1218  2019                       95.0                405.0          8.0   \n",
       "1219  2020                       92.0                401.0          8.0   \n",
       "1220  2021                       85.0                326.0          8.0   \n",
       "\n",
       "      Data type code          Reference Name  \n",
       "0                NaN                       -  \n",
       "1                NaN                       -  \n",
       "2                NaN                       -  \n",
       "3                NaN                       -  \n",
       "4                NaN                       -  \n",
       "...              ...                     ...  \n",
       "1216             0.0  NEWS-PAPER(ARASHIYAMA)  \n",
       "1217             0.0  NEWS-PAPER(ARASHIYAMA)  \n",
       "1218             0.0  NEWS-PAPER(ARASHIYAMA)  \n",
       "1219             0.0  NEWS-PAPER(ARASHIYAMA)  \n",
       "1220             0.0  NEWS-PAPER(ARASHIYAMA)  \n",
       "\n",
       "[1221 rows x 6 columns]"
      ]
     },
     "execution_count": 4,
     "metadata": {},
     "output_type": "execute_result"
    }
   ],
   "source": [
    "kyoto"
   ]
  },
  {
   "cell_type": "code",
   "execution_count": 5,
   "id": "5ce31f95",
   "metadata": {},
   "outputs": [
    {
     "data": {
      "text/plain": [
       "AD                             int64\n",
       "Full-flowering date (DOY)    float64\n",
       "Full-flowering date           object\n",
       "Source code                  float64\n",
       "Data type code               float64\n",
       "Reference Name                object\n",
       "dtype: object"
      ]
     },
     "execution_count": 5,
     "metadata": {},
     "output_type": "execute_result"
    }
   ],
   "source": [
    "# need to put date columns into date format\n",
    "kyoto['Full-flowering date'] = kyoto['Full-flowering date'].astype(str)\n",
    "kyoto.dtypes"
   ]
  },
  {
   "cell_type": "code",
   "execution_count": 6,
   "id": "1311a9ff",
   "metadata": {},
   "outputs": [],
   "source": [
    "zero_date = '0' + kyoto['Full-flowering date']\n",
    "zero_date = zero_date.str.rstrip('.0')\n",
    "kyoto['Full-flowering date'] = zero_date\n",
    "kyoto['Full-flowering date'] = kyoto['Full-flowering date'].replace('0nan', np.NaN)"
   ]
  },
  {
   "cell_type": "code",
   "execution_count": 9,
   "id": "a72d76ca",
   "metadata": {},
   "outputs": [
    {
     "data": {
      "text/plain": [
       "0         nan/801\n",
       "1         nan/802\n",
       "2         nan/803\n",
       "3         nan/804\n",
       "4         nan/805\n",
       "          ...    \n",
       "1216    0409/2017\n",
       "1217     033/2018\n",
       "1218    0405/2019\n",
       "1219    0401/2020\n",
       "1220    0326/2021\n",
       "Length: 1221, dtype: object"
      ]
     },
     "execution_count": 9,
     "metadata": {},
     "output_type": "execute_result"
    }
   ],
   "source": [
    "kyoto['Full-flowering date'].astype(str) + '/' + kyoto['AD'].astype(str)"
   ]
  }
 ],
 "metadata": {
  "kernelspec": {
   "display_name": "Python 3 (ipykernel)",
   "language": "python",
   "name": "python3"
  },
  "language_info": {
   "codemirror_mode": {
    "name": "ipython",
    "version": 3
   },
   "file_extension": ".py",
   "mimetype": "text/x-python",
   "name": "python",
   "nbconvert_exporter": "python",
   "pygments_lexer": "ipython3",
   "version": "3.8.12"
  }
 },
 "nbformat": 4,
 "nbformat_minor": 5
}
