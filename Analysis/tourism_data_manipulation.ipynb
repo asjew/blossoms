{
 "cells": [
  {
   "cell_type": "code",
   "execution_count": 1,
   "id": "7e01d8d5",
   "metadata": {},
   "outputs": [],
   "source": [
    "import pandas as pd\n",
    "import numpy as np\n",
    "import os"
   ]
  },
  {
   "cell_type": "code",
   "execution_count": 2,
   "id": "939cc914",
   "metadata": {},
   "outputs": [],
   "source": [
    "os.chdir(os.path.dirname(os.getcwd()))\n",
    "os.chdir('Data')\n",
    "os.chdir('tourism')\n",
    "# read in data\n",
    "df = pd.read_csv('tourists_by_year_country.csv')"
   ]
  },
  {
   "cell_type": "code",
   "execution_count": 3,
   "id": "ade34110",
   "metadata": {},
   "outputs": [],
   "source": [
    "blooming_months = ['Mar.', 'Apr.', 'May']\n",
    "east_asia = ['China', 'South Korea', 'North Korea', 'Taiwan', 'Mongolia']\n",
    "df['Season'] = np.where(df['Month (abbr)'].isin(blooming_months), 'Blooming Season', 'Non-Blooming Season')\n",
    "df['East Asian'] = np.where(df['Country/Area'].isin(east_asia), 'East Asian', 'Other')"
   ]
  },
  {
   "cell_type": "code",
   "execution_count": 4,
   "id": "d9696b81",
   "metadata": {},
   "outputs": [],
   "source": [
    "df.to_csv('tourists_bloom_szn.csv', index = False)"
   ]
  }
 ],
 "metadata": {
  "kernelspec": {
   "display_name": "Python 3 (ipykernel)",
   "language": "python",
   "name": "python3"
  },
  "language_info": {
   "codemirror_mode": {
    "name": "ipython",
    "version": 3
   },
   "file_extension": ".py",
   "mimetype": "text/x-python",
   "name": "python",
   "nbconvert_exporter": "python",
   "pygments_lexer": "ipython3",
   "version": "3.8.3"
  }
 },
 "nbformat": 4,
 "nbformat_minor": 5
}
